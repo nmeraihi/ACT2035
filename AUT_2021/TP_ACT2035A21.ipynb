{
 "cells": [
  {
   "cell_type": "markdown",
   "id": "43a237aa",
   "metadata": {},
   "source": [
    "# Le prix des actions"
   ]
  },
  {
   "cell_type": "markdown",
   "id": "8503f308",
   "metadata": {},
   "source": [
    "En théorie, nous pouvons appliquer des techniques de régression pour prédire les prix d'une action particulière. Cependant, en pratique, il est difficile de s'assurer que l'action que nous choisissons est appropriée à des fins de prédictio à cause d'une multitudes de d'autres facteurs qui sortent du cadre du cours pour le moment. Par conséquent, nous allons nous nous concentrerons donc sur l'un des indices boursiers les plus populaires pour mieux illustrer et généraliser notre approche de régression des prix."
   ]
  },
  {
   "cell_type": "markdown",
   "id": "0ab7b4e9",
   "metadata": {},
   "source": [
    "Regardons d'abord ce qu'est un indice. \n",
    "\n",
    ">Un indice boursier représente le taux de croissance, entre deux dates, de la juste valeur d'un portefeuille théorique d'actions cotées sur les marchés organisés appartenant à une liste d'entreprises sélectionnée par des choix raisonnés. (source: [Wikipédia](https://fr.wikipedia.org/wiki/Indice_boursier#:~:text=Un%20indice%20boursier%20d%C3%A9signe%2C%20quasiment,s%C3%A9lectionn%C3%A9e%20par%20des%20choix%20raisonn%C3%A9s.))\n",
    "\n",
    "\n",
    "\n",
    "Autrement dit, un indice boursier est une mesure statistique de la valeur d'une partie du marché boursier global. Un indice comprend plusieurs actions suffisamment diverses pour représenter une section de l'ensemble du marché. Et le prix d'un indice est généralement calculé comme la moyenne pondérée des prix des actions sélectionnées.\n",
    "\n",
    "\n",
    "\n",
    "Le Dow Jones Industrial Average (DJIA) est l'un des indices les plus anciens et les plus suivis au monde. Il se compose de 30 des actions les plus importantes des États-Unis, telles que Microsoft, Apple, General Electric et Walt Disney Company, et représente environ un quart de la valeur de l'ensemble du marché américain. Vous pouvez consulter ses cours et ses performances quotidiennes sur [Yahoo Finance](https://finance.yahoo.com/quote/%5EDJI/history?p=%5EDJI&guccounter=1). "
   ]
  },
  {
   "cell_type": "markdown",
   "id": "075ffdaf",
   "metadata": {},
   "source": [
    "![image.png](images/yahooFinance.png)"
   ]
  },
  {
   "cell_type": "markdown",
   "id": "2bac74fa",
   "metadata": {},
   "source": [
    "Chaque jour de bourse, le prix d'une action change et est enregistré en temps réel. Cinq valeurs illustrant les mouvements du prix sur une unité de temps (généralement un jour, mais cela peut aussi être une semaine ou un mois) sont des indicateurs clés de la négociation. Il s'agit des valeurs suivantes :"
   ]
  },
  {
   "cell_type": "markdown",
   "id": "f3177a89",
   "metadata": {},
   "source": [
    "- Open : Le prix de départ pour une journée de négociation donnée.\n",
    "- Close : Le prix final de cette journée.\n",
    "- High : Les prix les plus élevés auxquels l'action a été négociée ce jour-là.\n",
    "- Low : Le prix le plus bas auquel l'action a été négociée ce jour-là.\n",
    "- Volume : Le nombre total d'actions négociées avant la fermeture du marché ce jour-là."
   ]
  },
  {
   "cell_type": "markdown",
   "id": "3c0de60f",
   "metadata": {},
   "source": [
    "# Extraction des données"
   ]
  },
  {
   "cell_type": "markdown",
   "id": "159d3c8f",
   "metadata": {},
   "source": [
    "Il xiste plusieurs outils pour extraire des données d'indice boursier. Créer une fonction `VBA` qui vous permet de d'extraire une partie temporelle de vos données. Par exemple, si vos données historique de l'indice DJIA sont du 01 janvier 2005 à ajourd'hui, votre fonction peut couper les données entre deux dates données. Par exemple entre le 1 Juillet 2019 et le 01 Juillet 2020. Votre fonction, doit donc prendre pour argument les trois entrées suivante:\n",
    "\n",
    "* La plage de données originale\n",
    "* date_debut: la date de début de la période\n",
    "* date_fin: la date de fin de la période\n",
    "\n",
    "Cette fonction vous retourne ensuite une nouvelle plage de données dans une nouvelle feuille de calcul de votre classeur Excel afin de l'utiliser dans les prochaines étapes."
   ]
  },
  {
   "cell_type": "markdown",
   "id": "fef66a30",
   "metadata": {},
   "source": [
    "# Feature engineering"
   ]
  },
  {
   "cell_type": "markdown",
   "id": "3dbcab74",
   "metadata": {},
   "source": [
    "Le _feature engineering_ est le processus de création de caractéristiques spécifiques à un domaine à partir de caractéristiques existantes afin d'améliorer les performances d'un modèle de prédiction."
   ]
  },
  {
   "cell_type": "markdown",
   "id": "15d74f6e",
   "metadata": {},
   "source": [
    "Lorsqu'ils prennent une décision d'investissement, les investisseurs examinent généralement les prix historiques sur une période donnée, et pas seulement le prix de la veille. Par conséquent, dans notre cas de prédiction du prix des actions, nous pouvons calculer le prix de clôture moyen de la semaine écoulée (cinq jours de bourse), du mois écoulé et de l'année écoulée en tant que trois nouvelles fonctionnalités. Nous pouvons également personnaliser la fenêtre temporelle à la taille que nous voulons, comme le dernier trimestre ou les six derniers mois. En plus de ces trois caractéristiques de prix moyen, nous pouvons générer de nouvelles caractéristiques associées à la tendance des prix en calculant les ratios entre chaque paire de prix moyens dans les trois différentes périodes de temps, par exemple, le rapport entre le prix moyen de la semaine passée et celui de l'année passée."
   ]
  },
  {
   "cell_type": "markdown",
   "id": "e809c866",
   "metadata": {},
   "source": [
    "Outre les prix, le volume est un autre facteur important que les investisseurs analysent. De même, nous pouvons générer de nouvelles caractéristiques basées sur le volume en calculant les volumes moyens dans plusieurs cadres temporels différents et les ratios entre chaque paire de valeurs moyennes.\n",
    "Outre les valeurs moyennes historiques dans une fenêtre temporelle, les investisseurs prennent également en compte la volatilité des actions. La volatilité décrit le degré de variation des prix d'une action ou d'un indice donné dans le temps. En termes statistiques, il s'agit essentiellement de l'écart type des cours de clôture. Nous pouvons facilement générer de nouveaux ensembles de caractéristiques en calculant l'écart type des cours de clôture dans une période donnée, ainsi que l'écart type des volumes échangés. De la même manière, les ratios entre chaque paire de valeurs d'écart type peuvent être inclus dans notre pool de caractéristiques techniques.\n",
    " "
   ]
  },
  {
   "cell_type": "markdown",
   "id": "2c5a3a90",
   "metadata": {},
   "source": [
    "Enfin, le rendement est une mesure financière importante que les investisseurs surveillent de près. Le rendement est le pourcentage de gain ou de perte du cours de clôture d'une action ou d'un indice sur une période donnée. Par exemple, le rendement quotidien et le rendement annuel sont des termes financiers que nous entendons fréquemment. Ils sont calculés comme suit :"
   ]
  },
  {
   "cell_type": "markdown",
   "id": "cc4ec449",
   "metadata": {},
   "source": [
    "\\begin{aligned}\n",
    "\\text { rendement }_{i : i-1} &=\\frac{\\text { prix }_{i}-\\text { prix }_{i-1}}{\\text { prix }_{i-1}} \\\\\n",
    "\\text { rendement }_{i : i-365} &=\\frac{\\text { prix }_{i}-\\text { prix }_{i-365}}{\\text { prix }_{i-365}}\n",
    "\\end{aligned}"
   ]
  },
  {
   "cell_type": "markdown",
   "id": "fc1457f9",
   "metadata": {},
   "source": [
    "Ici, le prix est le $\\text{prix}_i$ du $i^{\\text {th }}$ jour et le $\\text{prix}_{i-1}$ est le prix du jour précédent. Les rendements hebdomadaires et mensuels peuvent être calculés de la même manière. Sur la base des rendements quotidiens, nous pouvons produire une moyenne mobile sur un nombre particulier de jours."
   ]
  },
  {
   "cell_type": "markdown",
   "id": "d7a54874",
   "metadata": {},
   "source": [
    "Par exemple, étant donné les rendements quotidiens de la semaine passée, le rendement $_{i : i-1}$, le rendement $_{i-1 : i-2}$, le rendement $_{i-2 : i-3}$, le rendement $_{i-3 : i-4}$ et le rendement $_{i-4 : i-5}$, nous pouvons calculer la moyenne mobile sur cette semaine comme suit :"
   ]
  },
  {
   "cell_type": "markdown",
   "id": "c2273efd",
   "metadata": {},
   "source": [
    "\\begin{equation}\n",
    "\\text { MovingAvg }_{i_{-} 5}=\\frac{\\text { rendement }_{i: i-1}+\\text { rendement }_{i-1: i-2}+\\text { rendement }_{i-2: i-3}+\\text { rendement }_{i-3: i-4}+\\text { rendement }_{i-4: i-5}}{5}\n",
    "\\end{equation}"
   ]
  },
  {
   "cell_type": "markdown",
   "id": "60b7b129",
   "metadata": {},
   "source": [
    "Créer une macro `VBA` appelée `feature_engin()` (qui peut regrouper un ensemble de fonctions) qui vous permet de générer ces nouvelles variables décrites dans les paragraphes précédents. Ces nouvelles caractéristiques doivent être calculées sur les 5, 30 et 365 derniers jours. Votre fonction prend en argument un data frame de données précédent et vous retourne les nouvelles caractéristiques en plus des variables suivantes:\n",
    "\n",
    "* $\\text { OpenPrice }_{i}$\n",
    "* $\\text { OpenPrice }_{i-1}$\n",
    "* $\\text { ClosePrice }_{i-1}$\n",
    "* $\\text { HighPrice }_{i-1}$\n",
    "* $\\text { LowPrice }_{i-1}$\n",
    "* $\\text { Volume }_{i-1}$\n",
    "\n",
    "Au total, vous devez avoir un minimum de 20 nouvelles caractéristiques chacune dans une vouelle colonnes."
   ]
  },
  {
   "cell_type": "markdown",
   "id": "aad67335",
   "metadata": {},
   "source": [
    "# Ce que vous devez me remettre:\n",
    "\n",
    "Vous devez me remettre un classeur Excel prenant en charge des macros qui contient des fonctions et macros qui prennent en argument:\n",
    "\n",
    "* la plage de données des données brutes\n",
    "* la date de début\n",
    "* la date de fin\n",
    "\n",
    "Une fois ces arguments sont saisis, votre macro doit:\n",
    "* créer une nouvelle feuille de calcul dans le même fichier Excel, \n",
    "* Y insérer les plages de données brutes découpées de la date de début jusqu'à la date de fin (choisi par l'utilisateur)\n",
    "* En utilisant des fonctions que vous avez définies, chacune crée une nouvelle variable telle que décrite dans la description précédente (par exemple une nouvelle colonne appelé $\\text { AvgPrice }_{5}$, $\\text { StdPrice }_{30}$ ...etc.)\n"
   ]
  }
 ],
 "metadata": {
  "kernelspec": {
   "display_name": "Python 3",
   "language": "python",
   "name": "python3"
  },
  "language_info": {
   "codemirror_mode": {
    "name": "ipython",
    "version": 3
   },
   "file_extension": ".py",
   "mimetype": "text/x-python",
   "name": "python",
   "nbconvert_exporter": "python",
   "pygments_lexer": "ipython3",
   "version": "3.7.6"
  }
 },
 "nbformat": 4,
 "nbformat_minor": 5
}
