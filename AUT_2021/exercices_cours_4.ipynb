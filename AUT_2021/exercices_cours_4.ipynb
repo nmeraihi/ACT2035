{
 "cells": [
  {
   "cell_type": "markdown",
   "metadata": {},
   "source": [
    "# Exercices"
   ]
  },
  {
   "cell_type": "markdown",
   "metadata": {},
   "source": [
    "## Exercice 1\n",
    "\n",
    "Qu'est-ce qui ne va pas avec le code VBA suivant ?\n",
    "\n",
    "```\n",
    "Sub VariableDemo1()\n",
    "    Dim wb As Workbook\n",
    "    \n",
    "    wb = Workbooks(1)\n",
    "    Debug.Print wb.Name\n",
    "End Sub\n",
    "```"
   ]
  },
  {
   "cell_type": "markdown",
   "metadata": {},
   "source": [
    "## Exercice 2\n",
    "Ecrivez une sous-procédure appelée WorkbookDemo6 pour créer un nouveau classeur, sauvegarder le nouveau classeur dans un fichier nommé \"MyWorkbook.xlsx\", puis fermer le nouveau classeur.\n",
    "\n"
   ]
  },
  {
   "cell_type": "markdown",
   "metadata": {},
   "source": [
    "## Exercice 3 \n",
    "Ecrivez une sous procédure nommée WorksheetDemo6 pour créer une nouvelle feuille de calcul et renommer la nouvelle feuille de calcul en \"SheetB\"."
   ]
  },
  {
   "cell_type": "markdown",
   "metadata": {},
   "source": [
    "## Exercice 4\n",
    "Soit arD un tableau défini dans le code suivant :\n",
    "```\n",
    "Sub ArrayDemo2()\n",
    "    Dim arD(5 To 100) As Integer\n",
    "End Sub\n",
    "```\n",
    "\n",
    "Quelles sont les limites du tableau arD, et combien d'éléments ce tableau contient-il ?"
   ]
  },
  {
   "cell_type": "markdown",
   "metadata": {},
   "source": [
    "## Exercice 5 \n",
    "Écrivez une sous-procédure nommée ArrayDemo5 qui déclare un tableau 2 × 2 × 2, attribue une valeur (par exemple, la somme des indices) à chaque élément et affiche tous les éléments."
   ]
  },
  {
   "cell_type": "markdown",
   "metadata": {},
   "source": [
    "## Exercice 6 \n",
    "\n",
    "Qu'est-ce qui ne va pas avec le code suivant ?\n",
    "```\n",
    "Sub Constante2()\n",
    "\n",
    "    Const conMonths As Single = 12\n",
    "    Const conQuarters As Byte = 4\n",
    "    Const conDebug As Boolean = False\n",
    "    const conWorkbook as Workbook=Thisworkbook\n",
    "    Const conCell as Range = Thiswookbook.cells(1,1)\n",
    "    Const conMode = \"Release\"\n",
    "    Const conCellsInRow As Integer = ThisWorkbook.ActiveSheet.Rows(1).Cells.Count\n",
    "\n",
    "End Sub\n",
    "```"
   ]
  },
  {
   "cell_type": "markdown",
   "metadata": {},
   "source": [
    "## Exercice 7\n",
    "Ecrivez une sous-procédure appelée DateDemo6 pour créer un tableau de dates allant du 1er janvier 2016 au 31 mai 2016, à un intervalle d'une semaine semaine.\n"
   ]
  }
 ],
 "metadata": {
  "kernelspec": {
   "display_name": "Python 3",
   "language": "python",
   "name": "python3"
  },
  "language_info": {
   "codemirror_mode": {
    "name": "ipython",
    "version": 3
   },
   "file_extension": ".py",
   "mimetype": "text/x-python",
   "name": "python",
   "nbconvert_exporter": "python",
   "pygments_lexer": "ipython3",
   "version": "3.7.6"
  }
 },
 "nbformat": 4,
 "nbformat_minor": 4
}
