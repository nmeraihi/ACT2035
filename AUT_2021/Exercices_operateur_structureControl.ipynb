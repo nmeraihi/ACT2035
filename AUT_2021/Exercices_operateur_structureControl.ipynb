{
 "cells": [
  {
   "cell_type": "markdown",
   "metadata": {
    "slideshow": {
     "slide_type": "subslide"
    }
   },
   "source": [
    "## Exercice 1\n",
    "\n",
    "Ecrivez une sous procédure nommée OperatorDemo2 pour calculer l'expression suivante :\n",
    "\n",
    "$$-\\frac{(1-2)^{2}}{2 \\times 3^{2}}-\\frac{1}{2} \\ln (2 \\pi)-\\ln 3$$"
   ]
  },
  {
   "cell_type": "markdown",
   "metadata": {
    "slideshow": {
     "slide_type": "subslide"
    }
   },
   "source": [
    "## Exercice 2\n",
    "Quel est le résultat du code suivant ?\n",
    "\n",
    "```\n",
    "Sub operatorsDemo3()\n",
    "    Debug.Print 216 + 2 * 30 ^ 2\n",
    "End sub\n",
    "```"
   ]
  },
  {
   "cell_type": "markdown",
   "metadata": {
    "slideshow": {
     "slide_type": "subslide"
    }
   },
   "source": [
    "## Exercise 3\n",
    "Ecrivez une sous procédure nommée ForNextDemo2 pour calculer la somme des entiers de 1 à 10.000 et afficher la somme dans la fenêtre Immediate tous les 1000 pas."
   ]
  },
  {
   "cell_type": "markdown",
   "metadata": {
    "slideshow": {
     "slide_type": "subslide"
    }
   },
   "source": [
    "\n",
    "## Exercise 4\n",
    "Ecrivez une sous-procédure nommée ForNextDemo3 pour calculer la somme suivante :\n",
    "$$ \\sum_{i=10}^{1000}\\left(i^{2}+3 i^{3}\\right)$$"
   ]
  },
  {
   "cell_type": "markdown",
   "metadata": {
    "slideshow": {
     "slide_type": "subslide"
    }
   },
   "source": [
    "## Exercice 5 \n",
    "Ecrivez une sous-procédure appelée ForNextDemo5 pour créer le tableau unidimensionnel suivant\n",
    "\n",
    "$$(0,1,0,0,1,0,0,1,0, \\ldots, 0,1,0)$$\n",
    "\n",
    "qui contient 99 éléments.\n"
   ]
  },
  {
   "cell_type": "markdown",
   "metadata": {
    "slideshow": {
     "slide_type": "subslide"
    }
   },
   "source": [
    "## Exercice 6 \n",
    "\n",
    "Ecrivez une sous-procédure appelée ForNextDemo6 pour créer le tableau unidimensionnel suivant,\n",
    "\n",
    "$$(2,1,3,2,1,3,2,1,3, \\ldots, 2,1,3)$$\n",
    "\n",
    "qui contient 30 éléments."
   ]
  },
  {
   "cell_type": "markdown",
   "metadata": {
    "slideshow": {
     "slide_type": "subslide"
    }
   },
   "source": [
    "## Exercice 7 \n",
    "\n",
    "Ecrivez une sous-procédure nommée ForNextDemo7 pour créer le\n",
    "tableau 100 × 100 suivant,\n",
    "\n",
    "$$\\left(\\begin{array}{ccccc}\n",
    "0 & 1 & 0 & \\cdots & 0 \\\\\n",
    "1 & 0 & 1 & \\cdots & 0 \\\\\n",
    "0 & 1 & 0 & \\cdots & 0 \\\\\n",
    "\\vdots & \\vdots & \\vdots & \\ddots & \\vdots \\\\\n",
    "0 & 0 & 0 & \\cdots & 0\n",
    "\\end{array}\\right)$$\n",
    "\n",
    "qui a des uns dans ses éléments sous-diagonaux et des zéros dans les autres éléments."
   ]
  },
  {
   "cell_type": "markdown",
   "metadata": {
    "slideshow": {
     "slide_type": "subslide"
    }
   },
   "source": [
    "## Exercice 8 \n",
    "\n",
    "Écrivez une sous-procédure appelée ForNextDemo9 pour créer le tableau 100 × 100 suivant :\n",
    "\n",
    "$$\\left(\\begin{array}{cccccc}\n",
    "0 & 1 & 2 & 3 & \\cdots & 99 \\\\\n",
    "1 & 2 & 3 & 4 & \\cdots & 100 \\\\\n",
    "2 & 3 & 4 & 5 & \\cdots & 101 \\\\\n",
    "\\vdots & \\vdots & \\vdots & \\vdots & \\ddots & \\vdots \\\\\n",
    "99 & 100 & 101 & 102 & \\cdots & 198\n",
    "\\end{array}\\right)$$\n",
    "\n",
    "Ensuite, placez le tableau dans la plage \"A1:CV100\" de la feuille de calcul active."
   ]
  },
  {
   "cell_type": "markdown",
   "metadata": {
    "slideshow": {
     "slide_type": "subslide"
    }
   },
   "source": [
    "## Exercice 9 \n",
    "\n",
    "Ecrivez une sous-procédure nomméeForNextDemo10 pour calculer la somme suivante :\n",
    "\n",
    "$$\\sum_{i=1}^{20} \\sum_{j=1}^{10} \\frac{i^{3}}{i j+5}$$"
   ]
  },
  {
   "cell_type": "markdown",
   "metadata": {
    "slideshow": {
     "slide_type": "subslide"
    }
   },
   "source": [
    "## Exercice 10\n",
    "\n",
    "La fonction `IsEmpty` peut être utilisée pour vérifier si une cellule est vide ou non. Écrivez une sous-procédure nommée `ForNextDemo13` pour afficher l'indice de ligne de la première cellule vide dans la première colonne de la feuille de calcul active.\n"
   ]
  },
  {
   "cell_type": "markdown",
   "metadata": {
    "slideshow": {
     "slide_type": "subslide"
    }
   },
   "source": [
    "## Exercice 11 \n",
    "\n",
    "Écrivez une sous procédure nommée DoWhileDemo3 qui utilise une boucle Do-While pour calculer la somme suivante :\n",
    "$$\n",
    "\\sum_{i=1}^{100} i\n",
    "$$"
   ]
  }
 ],
 "metadata": {
  "kernelspec": {
   "display_name": "Python 3",
   "language": "python",
   "name": "python3"
  },
  "language_info": {
   "codemirror_mode": {
    "name": "ipython",
    "version": 3
   },
   "file_extension": ".py",
   "mimetype": "text/x-python",
   "name": "python",
   "nbconvert_exporter": "python",
   "pygments_lexer": "ipython3",
   "version": "3.7.6"
  }
 },
 "nbformat": 4,
 "nbformat_minor": 4
}
