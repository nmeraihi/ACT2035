{
 "cells": [
  {
   "cell_type": "markdown",
   "metadata": {
    "slideshow": {
     "slide_type": "slide"
    }
   },
   "source": [
    "# Exercices\n"
   ]
  },
  {
   "cell_type": "markdown",
   "metadata": {
    "slideshow": {
     "slide_type": "subslide"
    }
   },
   "source": [
    "## Exercice 1\n",
    "\n",
    "Écrivez une procédure de fonction nommée MySum2 avec un argument de type Long, de sorte que MySum2(n) renvoie la valeur suivante :\n",
    "$$\n",
    "\\sum_{i=1}^{n} i^{2}\n",
    "$$"
   ]
  },
  {
   "cell_type": "markdown",
   "metadata": {
    "slideshow": {
     "slide_type": "subslide"
    }
   },
   "source": [
    "\n",
    "## Exercice 2 \n",
    "Écrivez une procédure de fonction appelée DNorm avec trois arguments de type Double, de sorte que DNorm$(x, \\mu, \\sigma)$ calcule la valeur suivante:\n",
    "$$\n",
    "f(x, \\mu, \\sigma)=\\frac{1}{\\sqrt{2 \\pi} \\sigma} \\exp \\left(-\\frac{(x-\\mu)^{2}}{2 \\sigma^{2}}\\right)\n",
    "$$"
   ]
  },
  {
   "cell_type": "markdown",
   "metadata": {
    "slideshow": {
     "slide_type": "subslide"
    }
   },
   "source": [
    "## Exercice 3 \n",
    "\n",
    "La moyenne d'échantillon et l'écart-type d'échantillon d'un vecteur de nombres peuvent être calculés de manière incrémentielle comme suit. Soit $y_{1}, y_{2}, \\ldots, y_{n}$ des nombres $n$. Soit $\\left\\{M_{1, i} : i=1,2, \\ldots, n\\right\\}$ et $\\left\\{M_{2, i} : i=1,2, \\ldots, n\\right\\}$ deux suites définies comme suit :\n",
    "\n",
    "$$\n",
    "M_{1,1}=y_{1}, \\quad M_{1, k}=M_{1, k-1}+\\frac{y_{k}-M_{1, k-1}}{k}, \\quad k=2,3, \\ldots, n\n",
    "$$\n",
    "et \n",
    "$$\n",
    "M_{2,1}=0, \\quad M_{2, k}=M_{2, k-1}+\\frac{k-1}{k}\\left(y_{k}-M_{1, k-1}\\right)^{2}, \\quad k=2,3, \\ldots, n\n",
    "$$\n",
    "alors\n",
    "$$\n",
    "\\bar{y}=M_{1, n}\n",
    "$$\n",
    "et \n",
    "$$\n",
    "s_{y}=\\sqrt{\\frac{M_{2, n}}{n-1}}, \\quad n>1\n",
    "$$\n",
    "\n",
    "où $\\bar{y}$ et $s_{y}$ désignent la moyenne et l'écart type de l'échantillon de $y_{1}, y_{2}, \\ldots, y_{n}$.\n",
    "\n",
    "Ecrivez deux procédures de fonction nommées `IncMean` et `IncStd` avec un argument de type tableau, de sorte que `IncMean(y)` et `IncStd(y)` calculent respectivement la moyenne de l'échantillon et l'écart-type de l'échantillon du tableau y de manière incrémentale. "
   ]
  },
  {
   "cell_type": "markdown",
   "metadata": {
    "slideshow": {
     "slide_type": "subslide"
    }
   },
   "source": [
    "## Exercice 4 \n",
    "\n",
    "Ecrivez une procédure de fonction appelée Factorial avec un argument de type long, de sorte que Factorial(n) calcule la valeur suivante:\n",
    "\n",
    "$$\n",
    "n !=1 \\times 2 \\times \\cdots n=\\prod_{i=1}^{n} i\n",
    "$$"
   ]
  }
 ],
 "metadata": {
  "kernelspec": {
   "display_name": "Python 3",
   "language": "python",
   "name": "python3"
  },
  "language_info": {
   "codemirror_mode": {
    "name": "ipython",
    "version": 3
   },
   "file_extension": ".py",
   "mimetype": "text/x-python",
   "name": "python",
   "nbconvert_exporter": "python",
   "pygments_lexer": "ipython3",
   "version": "3.7.6"
  }
 },
 "nbformat": 4,
 "nbformat_minor": 4
}
